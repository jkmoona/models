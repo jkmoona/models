{
 "cells": [
  {
   "cell_type": "markdown",
   "id": "d0219818",
   "metadata": {},
   "source": [
    "## ABSA with ATE —> DeBERTa pipeline"
   ]
  },
  {
   "cell_type": "code",
   "execution_count": null,
   "id": "d7c02d9c",
   "metadata": {},
   "outputs": [],
   "source": [
    "%pip install spacy transformers"
   ]
  },
  {
   "cell_type": "code",
   "execution_count": null,
   "id": "30e819ea",
   "metadata": {},
   "outputs": [
    {
     "name": "stderr",
     "output_type": "stream",
     "text": [
      "/Users/yusuf/dev/models/.venv/lib/python3.10/site-packages/huggingface_hub/file_download.py:943: FutureWarning: `resume_download` is deprecated and will be removed in version 1.0.0. Downloads always resume when possible. If you want to force a new download, use `force_download=True`.\n",
      "  warnings.warn(\n",
      "/Users/yusuf/dev/models/.venv/lib/python3.10/site-packages/transformers/convert_slow_tokenizer.py:454: UserWarning: The sentencepiece tokenizer that you are converting to a fast tokenizer uses the byte fallback option which is not implemented in the fast tokenizers. In practice this means that the fast version of the tokenizer can produce unknown tokens whereas the sentencepiece version would have converted these unknown tokens into a sequence of byte tokens matching the original piece of text.\n",
      "  warnings.warn(\n",
      "Xformers is not installed correctly. If you want to use memorry_efficient_attention to accelerate training use the following command to install Xformers\n",
      "pip install xformers.\n"
     ]
    }
   ],
   "source": [
    "import spacy\n",
    "from transformers import pipeline, AutoTokenizer, AutoModelForSequenceClassification\n",
    "\n",
    "# Spacy model\n",
    "nlp = spacy.load(\"en_core_web_sm\")\n",
    "\n",
    "# Pre-trained DeBERTa model for absa\n",
    "model_name = \"yangheng/deberta-v3-base-absa-v1.1\"\n",
    "tokenizer = AutoTokenizer.from_pretrained(model_name)\n",
    "model = AutoModelForSequenceClassification.from_pretrained(model_name)\n",
    "classifier = pipeline(\"text-classification\", model=model, tokenizer=tokenizer)\n"
   ]
  },
  {
   "cell_type": "code",
   "execution_count": 2,
   "id": "4332b84e",
   "metadata": {},
   "outputs": [],
   "source": [
    "def extract_aspects(text):\n",
    "    doc = nlp(text)\n",
    "    aspects = []\n",
    "    for chunk in doc.noun_chunks:  # extract noun phrases\n",
    "        if any(token.dep_ in (\"nsubj\", \"dobj\") for token in chunk):  # focus on key aspects\n",
    "            aspects.append(chunk.text)  # store the full noun phrase\n",
    "    return aspects"
   ]
  },
  {
   "cell_type": "code",
   "execution_count": null,
   "id": "0f1c162e",
   "metadata": {},
   "outputs": [],
   "source": [
    "def analyze_aspect_sentiment(text, aspects):\n",
    "    sentiment_results = {}\n",
    "    for aspect in aspects:\n",
    "        result = classifier(text, text_pair=aspect)[0]  # get full result dict\n",
    "        sentiment = result['label']\n",
    "        confidence = round(result['score'], 5)  # round to 5 digits\n",
    "        sentiment_results[aspect] = {'sentiment': sentiment, 'confidence': confidence}\n",
    "    return sentiment_results"
   ]
  },
  {
   "cell_type": "code",
   "execution_count": 8,
   "id": "2a1eec88",
   "metadata": {},
   "outputs": [
    {
     "name": "stdout",
     "output_type": "stream",
     "text": [
      "Extracted Aspects: ['The camera quality', 'the battery life']\n",
      "Aspect Sentiment Analysis: {'The camera quality': {'sentiment': 'Positive', 'confidence': 0.99813}, 'the battery life': {'sentiment': 'Negative', 'confidence': 0.99647}}\n"
     ]
    }
   ],
   "source": [
    "# example text\n",
    "text = \"The camera quality of this phone is amazing, but the battery life is disappointing.\"\n",
    "\n",
    "# extract aspects\n",
    "aspects = extract_aspects(text)\n",
    "print(\"Extracted Aspects:\", aspects)\n",
    "\n",
    "# get sentiment for each aspect\n",
    "aspect_sentiments = analyze_aspect_sentiment(text, aspects)\n",
    "print(\"Aspect Sentiment Analysis:\", aspect_sentiments)"
   ]
  },
  {
   "cell_type": "code",
   "execution_count": null,
   "id": "2a1740e3",
   "metadata": {},
   "outputs": [],
   "source": []
  }
 ],
 "metadata": {
  "kernelspec": {
   "display_name": ".venv",
   "language": "python",
   "name": "python3"
  },
  "language_info": {
   "codemirror_mode": {
    "name": "ipython",
    "version": 3
   },
   "file_extension": ".py",
   "mimetype": "text/x-python",
   "name": "python",
   "nbconvert_exporter": "python",
   "pygments_lexer": "ipython3",
   "version": "3.10.17"
  }
 },
 "nbformat": 4,
 "nbformat_minor": 5
}
