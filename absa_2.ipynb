{
 "cells": [
  {
   "cell_type": "markdown",
   "id": "d0219818",
   "metadata": {},
   "source": [
    "## ABSA with ATE —> DeBERTa pipeline"
   ]
  },
  {
   "cell_type": "code",
   "execution_count": null,
   "id": "d7c02d9c",
   "metadata": {},
   "outputs": [],
   "source": [
    "%pip install spacy transformers seaborn matplotlib pandas"
   ]
  },
  {
   "cell_type": "code",
   "execution_count": 4,
   "id": "30e819ea",
   "metadata": {},
   "outputs": [
    {
     "name": "stderr",
     "output_type": "stream",
     "text": [
      "/Users/yusuf/dev/models/.venv/lib/python3.10/site-packages/tqdm/auto.py:21: TqdmWarning: IProgress not found. Please update jupyter and ipywidgets. See https://ipywidgets.readthedocs.io/en/stable/user_install.html\n",
      "  from .autonotebook import tqdm as notebook_tqdm\n",
      "/Users/yusuf/dev/models/.venv/lib/python3.10/site-packages/huggingface_hub/file_download.py:943: FutureWarning: `resume_download` is deprecated and will be removed in version 1.0.0. Downloads always resume when possible. If you want to force a new download, use `force_download=True`.\n",
      "  warnings.warn(\n",
      "/Users/yusuf/dev/models/.venv/lib/python3.10/site-packages/transformers/convert_slow_tokenizer.py:454: UserWarning: The sentencepiece tokenizer that you are converting to a fast tokenizer uses the byte fallback option which is not implemented in the fast tokenizers. In practice this means that the fast version of the tokenizer can produce unknown tokens whereas the sentencepiece version would have converted these unknown tokens into a sequence of byte tokens matching the original piece of text.\n",
      "  warnings.warn(\n",
      "Xformers is not installed correctly. If you want to use memorry_efficient_attention to accelerate training use the following command to install Xformers\n",
      "pip install xformers.\n"
     ]
    }
   ],
   "source": [
    "import spacy\n",
    "from transformers import pipeline, AutoTokenizer, AutoModelForSequenceClassification\n",
    "\n",
    "# Spacy model\n",
    "nlp = spacy.load(\"en_core_web_sm\")\n",
    "\n",
    "# Pre-trained DeBERTa model for absa\n",
    "model_name = \"yangheng/deberta-v3-base-absa-v1.1\"\n",
    "tokenizer = AutoTokenizer.from_pretrained(model_name)\n",
    "model = AutoModelForSequenceClassification.from_pretrained(model_name)\n",
    "classifier = pipeline(\"text-classification\", model=model, tokenizer=tokenizer)\n"
   ]
  },
  {
   "cell_type": "code",
   "execution_count": 5,
   "id": "4332b84e",
   "metadata": {},
   "outputs": [],
   "source": [
    "def extract_aspects(text):\n",
    "    doc = nlp(text)\n",
    "    aspects = []\n",
    "    for chunk in doc.noun_chunks:  # extract noun phrases\n",
    "        if any(token.dep_ in (\"nsubj\", \"dobj\") for token in chunk):  # focus on key aspects\n",
    "            aspects.append(chunk.text)  # store the full noun phrase\n",
    "    return aspects"
   ]
  },
  {
   "cell_type": "code",
   "execution_count": 6,
   "id": "0f1c162e",
   "metadata": {},
   "outputs": [],
   "source": [
    "def analyze_aspect_sentiment(text, aspects):\n",
    "    sentiment_results = {}\n",
    "    for aspect in aspects:\n",
    "        result = classifier(text, text_pair=aspect)[0]  # get full result dict\n",
    "        sentiment = result['label']\n",
    "        confidence = round(result['score'], 5)  # round to 5 digits\n",
    "        sentiment_results[aspect] = {'sentiment': sentiment, 'confidence': confidence}\n",
    "    return sentiment_results"
   ]
  },
  {
   "cell_type": "code",
   "execution_count": 7,
   "id": "38fd00d5",
   "metadata": {},
   "outputs": [],
   "source": [
    "from sklearn.metrics import classification_report, confusion_matrix\n",
    "import seaborn as sns\n",
    "import matplotlib.pyplot as plt\n",
    "import pandas as pd\n",
    "from tqdm import tqdm\n",
    "\n",
    "def evaluate_model_on_csv(df):\n",
    "    y_true = []\n",
    "    y_pred = []\n",
    "\n",
    "    for _, row in tqdm(df.iterrows(), total=len(df)):\n",
    "        sentence = row['Sentence']\n",
    "        aspect = row['Aspect Term']\n",
    "        true_label = row['polarity'].lower()\n",
    "\n",
    "        input_text = f\"{aspect} in '{sentence}' is\"\n",
    "        pred_label = classifier(input_text)[0]['label'].lower()\n",
    "\n",
    "        y_true.append(true_label)\n",
    "        y_pred.append(pred_label)\n",
    "\n",
    "    # Report\n",
    "    print(\"\\nClassification Report:\")\n",
    "    print(classification_report(y_true, y_pred, digits=4))\n",
    "\n",
    "    # Confusion Matrix\n",
    "    cm = confusion_matrix(y_true, y_pred, labels=[\"positive\", \"negative\", \"neutral\"])\n",
    "    sns.heatmap(cm, annot=True, fmt=\"d\", cmap=\"Blues\",\n",
    "                xticklabels=[\"positive\", \"negative\", \"neutral\"],\n",
    "                yticklabels=[\"positive\", \"negative\", \"neutral\"])\n",
    "    plt.xlabel(\"Predicted\")\n",
    "    plt.ylabel(\"True\")\n",
    "    plt.title(\"Confusion Matrix\")\n",
    "    plt.show()\n"
   ]
  },
  {
   "cell_type": "code",
   "execution_count": null,
   "id": "c0e7bbe6",
   "metadata": {},
   "outputs": [],
   "source": [
    "df = pd.read_csv(\"data/Laptop_Train_v2.csv\")\n",
    "evaluate_model_on_csv(df)"
   ]
  },
  {
   "cell_type": "code",
   "execution_count": 8,
   "id": "2a1eec88",
   "metadata": {},
   "outputs": [],
   "source": [
    "# example text\n",
    "text = \"The food was great, but the service was terrible.\"\n",
    "\n",
    "# extract aspects\n",
    "aspects = extract_aspects(text)\n",
    "\n",
    "# get sentiment for each aspect\n",
    "aspect_sentiments = analyze_aspect_sentiment(text, aspects)"
   ]
  },
  {
   "cell_type": "code",
   "execution_count": 9,
   "id": "c0fa7610",
   "metadata": {},
   "outputs": [
    {
     "data": {
      "text/plain": [
       "{'The food': {'sentiment': 'Positive', 'confidence': 0.99696},\n",
       " 'the service': {'sentiment': 'Negative', 'confidence': 0.99194}}"
      ]
     },
     "execution_count": 9,
     "metadata": {},
     "output_type": "execute_result"
    }
   ],
   "source": [
    "aspect_sentiments"
   ]
  },
  {
   "cell_type": "code",
   "execution_count": null,
   "id": "efcac57e",
   "metadata": {},
   "outputs": [],
   "source": []
  }
 ],
 "metadata": {
  "kernelspec": {
   "display_name": ".venv",
   "language": "python",
   "name": "python3"
  },
  "language_info": {
   "codemirror_mode": {
    "name": "ipython",
    "version": 3
   },
   "file_extension": ".py",
   "mimetype": "text/x-python",
   "name": "python",
   "nbconvert_exporter": "python",
   "pygments_lexer": "ipython3",
   "version": "3.10.17"
  }
 },
 "nbformat": 4,
 "nbformat_minor": 5
}
